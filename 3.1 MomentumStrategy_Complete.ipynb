{
 "cells": [
  {
   "cell_type": "markdown",
   "metadata": {
    "id": "y_h_LBHEGSPv"
   },
   "source": [
    "##<font color='#4bcffa'> Momentum Strategy: Time Series Momentum: <br> \n",
    "\n",
    "<font color='#4bcffa'> Input<br>\n",
    "<font color='#2bcbba'> Log returns (logarithmic) or continuously compounded return  <br>\n",
    "Time period <br>\n",
    "Boolean logic - determine if to take a short position<br>\n",
    "\n",
    "<font color='#ef5777'> This strategy can evolve by using a series of indicators"
   ]
  },
  {
   "cell_type": "code",
   "execution_count": 1,
   "metadata": {
    "id": "J_xeiqUsLhCc"
   },
   "outputs": [],
   "source": [
    "import yfinance as yf \n",
    "import numpy as np\n",
    "import pandas as pd \n",
    "import matplotlib.pyplot as plt\n",
    "import vectorbt as vbt"
   ]
  },
  {
   "cell_type": "raw",
   "metadata": {},
   "source": [
    "dados = pd.read_csv(\"EURUSDH1.csv\", encoding = 'utf16'); dados"
   ]
  },
  {
   "cell_type": "markdown",
   "metadata": {
    "id": "If0D4mWCIV-Z"
   },
   "source": [
    "<font color='#4bcffa'>Time Momentum Strategy Function <br>\n",
    "<font color='#2bcbba'>  Use log returns of the time series, indicate the time-period, logic to determine if a short position would be taken.<br>\n",
    "The strategy returns Cumulative Sum --> this is used to monitor small shifts in the process mean. It uses the cumulative sum of deviations from a target."
   ]
  },
  {
   "cell_type": "code",
   "execution_count": 2,
   "metadata": {
    "id": "4jnr-lisMfSG"
   },
   "outputs": [],
   "source": [
    "def TS_momentum_strategy(returns, period=1, shorts=False):\n",
    "  \"\"\"1 day lookback \"\"\"\n",
    "  if shorts:\n",
    "    position = returns.rolling(period).mean().map(\n",
    "        lambda x: -1 if x <= 0 else 1\n",
    "    )\n",
    "  else:\n",
    "    position = returns.rolling(period).mean().map(\n",
    "        lambda x: 0 if x <= 0 else 1\n",
    "    )\n",
    "  performance = position.shift(1) * returns\n",
    "  return performance "
   ]
  },
  {
   "cell_type": "markdown",
   "metadata": {
    "id": "kmti1t8OSYeh"
   },
   "source": [
    "<font color='#2bcbba'> Input: Get all the Historical Market Data from yahoo finance for NIO"
   ]
  },
  {
   "cell_type": "code",
   "execution_count": 3,
   "metadata": {
    "id": "2AeHEaMaOTwi"
   },
   "outputs": [],
   "source": [
    "ticker = 'BTC-USD' \n",
    "ticker_object = yf.Ticker(ticker)\n",
    "ticker_data = ticker_object.history(start='2023-01-01')"
   ]
  },
  {
   "cell_type": "code",
   "execution_count": 28,
   "metadata": {
    "colab": {
     "base_uri": "https://localhost:8080/",
     "height": 235
    },
    "id": "JN3rnQvaSWiM",
    "outputId": "2b31574c-37b1-41d2-f51b-24a997635223"
   },
   "outputs": [
    {
     "data": {
      "text/html": [
       "<div>\n",
       "<style scoped>\n",
       "    .dataframe tbody tr th:only-of-type {\n",
       "        vertical-align: middle;\n",
       "    }\n",
       "\n",
       "    .dataframe tbody tr th {\n",
       "        vertical-align: top;\n",
       "    }\n",
       "\n",
       "    .dataframe thead th {\n",
       "        text-align: right;\n",
       "    }\n",
       "</style>\n",
       "<table border=\"1\" class=\"dataframe\">\n",
       "  <thead>\n",
       "    <tr style=\"text-align: right;\">\n",
       "      <th></th>\n",
       "      <th>Date</th>\n",
       "      <th>Open</th>\n",
       "      <th>High</th>\n",
       "      <th>Low</th>\n",
       "      <th>Close</th>\n",
       "      <th>Volume</th>\n",
       "      <th>Dividends</th>\n",
       "      <th>Stock Splits</th>\n",
       "    </tr>\n",
       "  </thead>\n",
       "  <tbody>\n",
       "    <tr>\n",
       "      <th>230</th>\n",
       "      <td>2023-08-19 00:00:00+00:00</td>\n",
       "      <td>26047.832031</td>\n",
       "      <td>26249.449219</td>\n",
       "      <td>25802.408203</td>\n",
       "      <td>26096.205078</td>\n",
       "      <td>10631443812</td>\n",
       "      <td>0.0</td>\n",
       "      <td>0.0</td>\n",
       "    </tr>\n",
       "    <tr>\n",
       "      <th>231</th>\n",
       "      <td>2023-08-20 00:00:00+00:00</td>\n",
       "      <td>26096.861328</td>\n",
       "      <td>26260.681641</td>\n",
       "      <td>26004.314453</td>\n",
       "      <td>26189.583984</td>\n",
       "      <td>9036580420</td>\n",
       "      <td>0.0</td>\n",
       "      <td>0.0</td>\n",
       "    </tr>\n",
       "    <tr>\n",
       "      <th>232</th>\n",
       "      <td>2023-08-21 00:00:00+00:00</td>\n",
       "      <td>26188.691406</td>\n",
       "      <td>26220.201172</td>\n",
       "      <td>25846.087891</td>\n",
       "      <td>26124.140625</td>\n",
       "      <td>13371557893</td>\n",
       "      <td>0.0</td>\n",
       "      <td>0.0</td>\n",
       "    </tr>\n",
       "    <tr>\n",
       "      <th>233</th>\n",
       "      <td>2023-08-22 00:00:00+00:00</td>\n",
       "      <td>26130.748047</td>\n",
       "      <td>26135.507812</td>\n",
       "      <td>25520.728516</td>\n",
       "      <td>26031.656250</td>\n",
       "      <td>14503820706</td>\n",
       "      <td>0.0</td>\n",
       "      <td>0.0</td>\n",
       "    </tr>\n",
       "    <tr>\n",
       "      <th>234</th>\n",
       "      <td>2023-08-23 00:00:00+00:00</td>\n",
       "      <td>26083.507812</td>\n",
       "      <td>26143.343750</td>\n",
       "      <td>25906.871094</td>\n",
       "      <td>25938.628906</td>\n",
       "      <td>16121426944</td>\n",
       "      <td>0.0</td>\n",
       "      <td>0.0</td>\n",
       "    </tr>\n",
       "  </tbody>\n",
       "</table>\n",
       "</div>"
      ],
      "text/plain": [
       "                         Date          Open          High           Low  \\\n",
       "230 2023-08-19 00:00:00+00:00  26047.832031  26249.449219  25802.408203   \n",
       "231 2023-08-20 00:00:00+00:00  26096.861328  26260.681641  26004.314453   \n",
       "232 2023-08-21 00:00:00+00:00  26188.691406  26220.201172  25846.087891   \n",
       "233 2023-08-22 00:00:00+00:00  26130.748047  26135.507812  25520.728516   \n",
       "234 2023-08-23 00:00:00+00:00  26083.507812  26143.343750  25906.871094   \n",
       "\n",
       "            Close       Volume  Dividends  Stock Splits  \n",
       "230  26096.205078  10631443812        0.0           0.0  \n",
       "231  26189.583984   9036580420        0.0           0.0  \n",
       "232  26124.140625  13371557893        0.0           0.0  \n",
       "233  26031.656250  14503820706        0.0           0.0  \n",
       "234  25938.628906  16121426944        0.0           0.0  "
      ]
     },
     "execution_count": 28,
     "metadata": {},
     "output_type": "execute_result"
    }
   ],
   "source": [
    "ticker_data.tail()"
   ]
  },
  {
   "cell_type": "markdown",
   "metadata": {
    "id": "4v2yd_4BTgbF"
   },
   "source": [
    "<font color='#2bcbba'> We have the data but it would be best if we don't pass this to our strategy immediately; calculate the log returns first and then feed it into the strategy function"
   ]
  },
  {
   "cell_type": "code",
   "execution_count": 5,
   "metadata": {
    "id": "Wn6NjjLrTrYw"
   },
   "outputs": [],
   "source": [
    "returns = np.log(ticker_data['Close'] / ticker_data['Close'].shift(1)).dropna() "
   ]
  },
  {
   "cell_type": "markdown",
   "metadata": {
    "id": "Hm2ehjKbT2SF"
   },
   "source": [
    "<font color='#2bcbba'>Considering momentum; the logic would be based on 'buy' if the trend is upward and 'sell' if the trend is downward (if you are holding). "
   ]
  },
  {
   "cell_type": "code",
   "execution_count": 6,
   "metadata": {
    "colab": {
     "base_uri": "https://localhost:8080/"
    },
    "id": "ySSXZriOXIBJ",
    "outputId": "292dd5c1-6698-460e-b50b-78fb9bf5678f"
   },
   "outputs": [
    {
     "name": "stdout",
     "output_type": "stream",
     "text": [
      "1-day Time Series Momentum generated: \n",
      "\ttotal returns: 39.67% \n",
      "\tannual returns: 69.16% \n",
      "\tSharpe ratio: 2.23 \n"
     ]
    }
   ],
   "source": [
    "performance = TS_momentum_strategy(returns, period=1, shorts=False).dropna()\n",
    "years = (performance.index.max() - performance.index.min()).days / 365 \n",
    "perf_cum = np.exp(performance.cumsum()) \n",
    "tot = perf_cum[-1] -1 \n",
    "ann = perf_cum[-1] ** (1 / years) - 1\n",
    "vol = performance.std() * np.sqrt(252) \n",
    "#risk free rate - does not exist in reality - all investments have some degree of at least a very small risk \n",
    "rfr = 0.02 \n",
    "sharpe = (ann - rfr) / vol\n",
    "\n",
    "print(f\"1-day Time Series Momentum generated: \" +\n",
    "      f\"\\n\\ttotal returns: {tot*100:.2f}% \" + \n",
    "      f\"\\n\\tannual returns: {ann*100:.2f}% \" +\n",
    "      f\"\\n\\tSharpe ratio: {sharpe:.2f} \")"
   ]
  },
  {
   "cell_type": "code",
   "execution_count": 7,
   "metadata": {
    "id": "0GeUyUwQeRgA"
   },
   "outputs": [],
   "source": [
    "#BUY AND HOLD \n",
    "nio_returns = np.exp(returns.cumsum()) \n",
    "BH_tot = nio_returns[-1] -1 \n",
    "BH_ann = nio_returns[-1] ** (1 / years) - 1\n",
    "BH_vol = returns.std() * np.sqrt(252) \n",
    "BH_sharpe = (BH_ann - rfr) / vol"
   ]
  },
  {
   "cell_type": "code",
   "execution_count": 8,
   "metadata": {
    "colab": {
     "base_uri": "https://localhost:8080/"
    },
    "id": "1TCE_xSwfrIq",
    "outputId": "a2123e26-7a76-416a-91b0-a42e67e44fcb"
   },
   "outputs": [
    {
     "name": "stdout",
     "output_type": "stream",
     "text": [
      "Buy & Hold without using time series strategy: \n",
      "\ttotal returns: 56.02% \n",
      "\tannual returns: 101.34% \n",
      "\tSharpe ratio: 3.30 \n"
     ]
    }
   ],
   "source": [
    "print(f\"Buy & Hold without using time series strategy: \" +\n",
    "      f\"\\n\\ttotal returns: {BH_tot*100:.2f}% \" + \n",
    "      f\"\\n\\tannual returns: {BH_ann*100:.2f}% \" + \n",
    "      f\"\\n\\tSharpe ratio: {BH_sharpe:.2f} \")"
   ]
  },
  {
   "cell_type": "markdown",
   "metadata": {
    "id": "M6zz_IRTYUD3"
   },
   "source": [
    "<font color='#2bcbba'>The time series momentum strategy based on a 1-Day lookback performed better than buy-hold. Note: transaction fees are not considered in this and fees may be high when using short-term trading strategies. <br>\n",
    "\n",
    "<font color='#ef5777'>This 1-Day look back period can be flawed with misleading trends. Running the model on multiple time periods can give a better indication of performance. "
   ]
  },
  {
   "cell_type": "code",
   "execution_count": 9,
   "metadata": {
    "id": "mcDUn-A8YTLz"
   },
   "outputs": [
    {
     "data": {
      "image/png": "[encoded data removed]",
      "text/plain": [
       "<Figure size 1152x432 with 1 Axes>"
      ]
     },
     "metadata": {
      "needs_background": "light"
     },
     "output_type": "display_data"
    }
   ],
   "source": [
    "plt.figure(figsize=(16,6))\n",
    "plt.plot(returns.cumsum())\n",
    "plt.show()"
   ]
  },
  {
   "cell_type": "code",
   "execution_count": 10,
   "metadata": {},
   "outputs": [
    {
     "data": {
      "text/html": [
       "<div>\n",
       "<style scoped>\n",
       "    .dataframe tbody tr th:only-of-type {\n",
       "        vertical-align: middle;\n",
       "    }\n",
       "\n",
       "    .dataframe tbody tr th {\n",
       "        vertical-align: top;\n",
       "    }\n",
       "\n",
       "    .dataframe thead th {\n",
       "        text-align: right;\n",
       "    }\n",
       "</style>\n",
       "<table border=\"1\" class=\"dataframe\">\n",
       "  <thead>\n",
       "    <tr style=\"text-align: right;\">\n",
       "      <th></th>\n",
       "      <th>Close</th>\n",
       "    </tr>\n",
       "    <tr>\n",
       "      <th>Date</th>\n",
       "      <th></th>\n",
       "    </tr>\n",
       "  </thead>\n",
       "  <tbody>\n",
       "    <tr>\n",
       "      <th>2023-01-02 00:00:00+00:00</th>\n",
       "      <td>0.003806</td>\n",
       "    </tr>\n",
       "    <tr>\n",
       "      <th>2023-01-03 00:00:00+00:00</th>\n",
       "      <td>-0.000516</td>\n",
       "    </tr>\n",
       "    <tr>\n",
       "      <th>2023-01-04 00:00:00+00:00</th>\n",
       "      <td>0.010934</td>\n",
       "    </tr>\n",
       "    <tr>\n",
       "      <th>2023-01-05 00:00:00+00:00</th>\n",
       "      <td>-0.001573</td>\n",
       "    </tr>\n",
       "    <tr>\n",
       "      <th>2023-01-06 00:00:00+00:00</th>\n",
       "      <td>0.006821</td>\n",
       "    </tr>\n",
       "    <tr>\n",
       "      <th>...</th>\n",
       "      <td>...</td>\n",
       "    </tr>\n",
       "    <tr>\n",
       "      <th>2023-08-19 00:00:00+00:00</th>\n",
       "      <td>0.001789</td>\n",
       "    </tr>\n",
       "    <tr>\n",
       "      <th>2023-08-20 00:00:00+00:00</th>\n",
       "      <td>0.003572</td>\n",
       "    </tr>\n",
       "    <tr>\n",
       "      <th>2023-08-21 00:00:00+00:00</th>\n",
       "      <td>-0.002502</td>\n",
       "    </tr>\n",
       "    <tr>\n",
       "      <th>2023-08-22 00:00:00+00:00</th>\n",
       "      <td>-0.003546</td>\n",
       "    </tr>\n",
       "    <tr>\n",
       "      <th>2023-08-23 00:00:00+00:00</th>\n",
       "      <td>-0.003580</td>\n",
       "    </tr>\n",
       "  </tbody>\n",
       "</table>\n",
       "<p>234 rows × 1 columns</p>\n",
       "</div>"
      ],
      "text/plain": [
       "                              Close\n",
       "Date                               \n",
       "2023-01-02 00:00:00+00:00  0.003806\n",
       "2023-01-03 00:00:00+00:00 -0.000516\n",
       "2023-01-04 00:00:00+00:00  0.010934\n",
       "2023-01-05 00:00:00+00:00 -0.001573\n",
       "2023-01-06 00:00:00+00:00  0.006821\n",
       "...                             ...\n",
       "2023-08-19 00:00:00+00:00  0.001789\n",
       "2023-08-20 00:00:00+00:00  0.003572\n",
       "2023-08-21 00:00:00+00:00 -0.002502\n",
       "2023-08-22 00:00:00+00:00 -0.003546\n",
       "2023-08-23 00:00:00+00:00 -0.003580\n",
       "\n",
       "[234 rows x 1 columns]"
      ]
     },
     "execution_count": 10,
     "metadata": {},
     "output_type": "execute_result"
    }
   ],
   "source": [
    "s"
   ]
  },
  {
   "cell_type": "code",
   "execution_count": 11,
   "metadata": {},
   "outputs": [],
   "source": [
    "def Dias_quedas(data, Close):  \n",
    "    \n",
    "    data.reset_index(inplace=True)\n",
    "    data[\"Verificando\"] = np.nan\n",
    "    contador = 0\n",
    "    \n",
    "    for i in range(len(data[Close])):\n",
    "        \n",
    "        if data.loc[i, Close] < 0:\n",
    "            \n",
    "            contador += 1\n",
    "            data.loc[i, \"Verificando\"] = contador\n",
    "        \n",
    "        else:\n",
    "            \n",
    "            contador = 0\n",
    "            data.loc[i, \"Verificando\"] = 0\n",
    "            \n",
    "def Signals(data, nome_coluna, obj_localizado):\n",
    "    \n",
    "    data[\"Signals\"] = np.nan\n",
    "    \n",
    "    for i in range(len(data[nome_coluna])):\n",
    "        \n",
    "        if data.loc[i, nome_coluna] == obj_localizado:\n",
    "            \n",
    "            data.loc[i, \"Signals\"] = True\n",
    "        else:\n",
    "            data.loc[i, \"Signals\"] = False"
   ]
  },
  {
   "cell_type": "code",
   "execution_count": 12,
   "metadata": {},
   "outputs": [],
   "source": [
    "#data.reset_index(inplace=True)\n",
    "Dias_quedas(data=retornos, Close=\"Close\")\n",
    "Signals(data=retornos, nome_coluna=\"Verificando\", obj_localizado=3)"
   ]
  },
  {
   "cell_type": "code",
   "execution_count": 13,
   "metadata": {},
   "outputs": [],
   "source": [
    "retornos.columns = [\"Data\", \"Close\", \"Verificando\", \"Signals\"]"
   ]
  },
  {
   "cell_type": "code",
   "execution_count": 14,
   "metadata": {},
   "outputs": [
    {
     "data": {
      "text/plain": [
       "Verificando  Signals\n",
       "0.0          False      112\n",
       "1.0          False       65\n",
       "2.0          False       25\n",
       "3.0          True        17\n",
       "4.0          False        7\n",
       "5.0          False        5\n",
       "6.0          False        1\n",
       "7.0          False        1\n",
       "8.0          False        1\n",
       "Name: count, dtype: int64"
      ]
     },
     "execution_count": 14,
     "metadata": {},
     "output_type": "execute_result"
    }
   ],
   "source": [
    "retornos[[\"Verificando\", \"Signals\"]].value_counts()"
   ]
  },
  {
   "cell_type": "code",
   "execution_count": 15,
   "metadata": {},
   "outputs": [],
   "source": [
    "retornos.set_index(\"Data\", inplace=True)"
   ]
  },
  {
   "cell_type": "code",
   "execution_count": 16,
   "metadata": {},
   "outputs": [
    {
     "data": {
      "text/html": [
       "<div>\n",
       "<style scoped>\n",
       "    .dataframe tbody tr th:only-of-type {\n",
       "        vertical-align: middle;\n",
       "    }\n",
       "\n",
       "    .dataframe tbody tr th {\n",
       "        vertical-align: top;\n",
       "    }\n",
       "\n",
       "    .dataframe thead th {\n",
       "        text-align: right;\n",
       "    }\n",
       "</style>\n",
       "<table border=\"1\" class=\"dataframe\">\n",
       "  <thead>\n",
       "    <tr style=\"text-align: right;\">\n",
       "      <th></th>\n",
       "      <th>Close</th>\n",
       "      <th>Verificando</th>\n",
       "      <th>Signals</th>\n",
       "    </tr>\n",
       "    <tr>\n",
       "      <th>Data</th>\n",
       "      <th></th>\n",
       "      <th></th>\n",
       "      <th></th>\n",
       "    </tr>\n",
       "  </thead>\n",
       "  <tbody>\n",
       "    <tr>\n",
       "      <th>2023-01-02 00:00:00+00:00</th>\n",
       "      <td>0.003806</td>\n",
       "      <td>0.0</td>\n",
       "      <td>False</td>\n",
       "    </tr>\n",
       "    <tr>\n",
       "      <th>2023-01-03 00:00:00+00:00</th>\n",
       "      <td>-0.000516</td>\n",
       "      <td>1.0</td>\n",
       "      <td>False</td>\n",
       "    </tr>\n",
       "    <tr>\n",
       "      <th>2023-01-04 00:00:00+00:00</th>\n",
       "      <td>0.010934</td>\n",
       "      <td>0.0</td>\n",
       "      <td>False</td>\n",
       "    </tr>\n",
       "    <tr>\n",
       "      <th>2023-01-05 00:00:00+00:00</th>\n",
       "      <td>-0.001573</td>\n",
       "      <td>1.0</td>\n",
       "      <td>False</td>\n",
       "    </tr>\n",
       "    <tr>\n",
       "      <th>2023-01-06 00:00:00+00:00</th>\n",
       "      <td>0.006821</td>\n",
       "      <td>0.0</td>\n",
       "      <td>False</td>\n",
       "    </tr>\n",
       "    <tr>\n",
       "      <th>...</th>\n",
       "      <td>...</td>\n",
       "      <td>...</td>\n",
       "      <td>...</td>\n",
       "    </tr>\n",
       "    <tr>\n",
       "      <th>2023-08-19 00:00:00+00:00</th>\n",
       "      <td>0.001789</td>\n",
       "      <td>0.0</td>\n",
       "      <td>False</td>\n",
       "    </tr>\n",
       "    <tr>\n",
       "      <th>2023-08-20 00:00:00+00:00</th>\n",
       "      <td>0.003572</td>\n",
       "      <td>0.0</td>\n",
       "      <td>False</td>\n",
       "    </tr>\n",
       "    <tr>\n",
       "      <th>2023-08-21 00:00:00+00:00</th>\n",
       "      <td>-0.002502</td>\n",
       "      <td>1.0</td>\n",
       "      <td>False</td>\n",
       "    </tr>\n",
       "    <tr>\n",
       "      <th>2023-08-22 00:00:00+00:00</th>\n",
       "      <td>-0.003546</td>\n",
       "      <td>2.0</td>\n",
       "      <td>False</td>\n",
       "    </tr>\n",
       "    <tr>\n",
       "      <th>2023-08-23 00:00:00+00:00</th>\n",
       "      <td>-0.003580</td>\n",
       "      <td>3.0</td>\n",
       "      <td>True</td>\n",
       "    </tr>\n",
       "  </tbody>\n",
       "</table>\n",
       "<p>234 rows × 3 columns</p>\n",
       "</div>"
      ],
      "text/plain": [
       "                              Close  Verificando Signals\n",
       "Data                                                    \n",
       "2023-01-02 00:00:00+00:00  0.003806          0.0   False\n",
       "2023-01-03 00:00:00+00:00 -0.000516          1.0   False\n",
       "2023-01-04 00:00:00+00:00  0.010934          0.0   False\n",
       "2023-01-05 00:00:00+00:00 -0.001573          1.0   False\n",
       "2023-01-06 00:00:00+00:00  0.006821          0.0   False\n",
       "...                             ...          ...     ...\n",
       "2023-08-19 00:00:00+00:00  0.001789          0.0   False\n",
       "2023-08-20 00:00:00+00:00  0.003572          0.0   False\n",
       "2023-08-21 00:00:00+00:00 -0.002502          1.0   False\n",
       "2023-08-22 00:00:00+00:00 -0.003546          2.0   False\n",
       "2023-08-23 00:00:00+00:00 -0.003580          3.0    True\n",
       "\n",
       "[234 rows x 3 columns]"
      ]
     },
     "execution_count": 16,
     "metadata": {},
     "output_type": "execute_result"
    }
   ],
   "source": [
    "retornos"
   ]
  },
  {
   "cell_type": "code",
   "execution_count": 17,
   "metadata": {},
   "outputs": [
    {
     "data": {
      "text/html": [
       "<div>\n",
       "<style scoped>\n",
       "    .dataframe tbody tr th:only-of-type {\n",
       "        vertical-align: middle;\n",
       "    }\n",
       "\n",
       "    .dataframe tbody tr th {\n",
       "        vertical-align: top;\n",
       "    }\n",
       "\n",
       "    .dataframe thead th {\n",
       "        text-align: right;\n",
       "    }\n",
       "</style>\n",
       "<table border=\"1\" class=\"dataframe\">\n",
       "  <thead>\n",
       "    <tr style=\"text-align: right;\">\n",
       "      <th></th>\n",
       "      <th>Close</th>\n",
       "      <th>Verificando</th>\n",
       "      <th>Signals</th>\n",
       "    </tr>\n",
       "    <tr>\n",
       "      <th>Data</th>\n",
       "      <th></th>\n",
       "      <th></th>\n",
       "      <th></th>\n",
       "    </tr>\n",
       "  </thead>\n",
       "  <tbody>\n",
       "    <tr>\n",
       "      <th>2023-01-02 00:00:00+00:00</th>\n",
       "      <td>0.003806</td>\n",
       "      <td>0.0</td>\n",
       "      <td>False</td>\n",
       "    </tr>\n",
       "    <tr>\n",
       "      <th>2023-01-03 00:00:00+00:00</th>\n",
       "      <td>-0.000516</td>\n",
       "      <td>1.0</td>\n",
       "      <td>False</td>\n",
       "    </tr>\n",
       "    <tr>\n",
       "      <th>2023-01-04 00:00:00+00:00</th>\n",
       "      <td>0.010934</td>\n",
       "      <td>0.0</td>\n",
       "      <td>False</td>\n",
       "    </tr>\n",
       "    <tr>\n",
       "      <th>2023-01-05 00:00:00+00:00</th>\n",
       "      <td>-0.001573</td>\n",
       "      <td>1.0</td>\n",
       "      <td>False</td>\n",
       "    </tr>\n",
       "    <tr>\n",
       "      <th>2023-01-06 00:00:00+00:00</th>\n",
       "      <td>0.006821</td>\n",
       "      <td>0.0</td>\n",
       "      <td>False</td>\n",
       "    </tr>\n",
       "    <tr>\n",
       "      <th>...</th>\n",
       "      <td>...</td>\n",
       "      <td>...</td>\n",
       "      <td>...</td>\n",
       "    </tr>\n",
       "    <tr>\n",
       "      <th>2023-08-19 00:00:00+00:00</th>\n",
       "      <td>0.001789</td>\n",
       "      <td>0.0</td>\n",
       "      <td>False</td>\n",
       "    </tr>\n",
       "    <tr>\n",
       "      <th>2023-08-20 00:00:00+00:00</th>\n",
       "      <td>0.003572</td>\n",
       "      <td>0.0</td>\n",
       "      <td>False</td>\n",
       "    </tr>\n",
       "    <tr>\n",
       "      <th>2023-08-21 00:00:00+00:00</th>\n",
       "      <td>-0.002502</td>\n",
       "      <td>1.0</td>\n",
       "      <td>False</td>\n",
       "    </tr>\n",
       "    <tr>\n",
       "      <th>2023-08-22 00:00:00+00:00</th>\n",
       "      <td>-0.003546</td>\n",
       "      <td>2.0</td>\n",
       "      <td>False</td>\n",
       "    </tr>\n",
       "    <tr>\n",
       "      <th>2023-08-23 00:00:00+00:00</th>\n",
       "      <td>-0.003580</td>\n",
       "      <td>3.0</td>\n",
       "      <td>True</td>\n",
       "    </tr>\n",
       "  </tbody>\n",
       "</table>\n",
       "<p>234 rows × 3 columns</p>\n",
       "</div>"
      ],
      "text/plain": [
       "                              Close  Verificando Signals\n",
       "Data                                                    \n",
       "2023-01-02 00:00:00+00:00  0.003806          0.0   False\n",
       "2023-01-03 00:00:00+00:00 -0.000516          1.0   False\n",
       "2023-01-04 00:00:00+00:00  0.010934          0.0   False\n",
       "2023-01-05 00:00:00+00:00 -0.001573          1.0   False\n",
       "2023-01-06 00:00:00+00:00  0.006821          0.0   False\n",
       "...                             ...          ...     ...\n",
       "2023-08-19 00:00:00+00:00  0.001789          0.0   False\n",
       "2023-08-20 00:00:00+00:00  0.003572          0.0   False\n",
       "2023-08-21 00:00:00+00:00 -0.002502          1.0   False\n",
       "2023-08-22 00:00:00+00:00 -0.003546          2.0   False\n",
       "2023-08-23 00:00:00+00:00 -0.003580          3.0    True\n",
       "\n",
       "[234 rows x 3 columns]"
      ]
     },
     "execution_count": 17,
     "metadata": {},
     "output_type": "execute_result"
    }
   ],
   "source": [
    "retornos"
   ]
  },
  {
   "cell_type": "code",
   "execution_count": 18,
   "metadata": {},
   "outputs": [],
   "source": [
    "ticker_data.reset_index(inplace=True)"
   ]
  },
  {
   "cell_type": "raw",
   "metadata": {},
   "source": [
    "retornos[\"Porfit\"] = np.nan\n",
    "retornos.reset_index(inplace=True)\n",
    "contador = 0\n",
    "for i in range(len(retornos[\"Close\"])):\n",
    "    if retornos.loc[i, \"Signals\"] == True:\n",
    "        for j in range(i, len(retornos[\"Close\"])):\n",
    "            if ticker_data.loc[j, \"Close\"] > ticker_data.loc[i, \"Close\"] * 1.05:\n",
    "                contador =+ 1\n",
    "            else:\n",
    "                print(contador)"
   ]
  },
  {
   "cell_type": "code",
   "execution_count": null,
   "metadata": {},
   "outputs": [],
   "source": []
  },
  {
   "cell_type": "code",
   "execution_count": 22,
   "metadata": {},
   "outputs": [],
   "source": [
    "entries = retornos[\"Signals\"]\n",
    "data = retornos[\"Close\"]"
   ]
  },
  {
   "cell_type": "code",
   "execution_count": 20,
   "metadata": {},
   "outputs": [],
   "source": [
    "data.vbt.drop_levels(-1, inplace=True)"
   ]
  },
  {
   "cell_type": "code",
   "execution_count": null,
   "metadata": {},
   "outputs": [],
   "source": []
  },
  {
   "cell_type": "code",
   "execution_count": 27,
   "metadata": {},
   "outputs": [
    {
     "data": {
      "text/html": [
       "<div>\n",
       "<style scoped>\n",
       "    .dataframe tbody tr th:only-of-type {\n",
       "        vertical-align: middle;\n",
       "    }\n",
       "\n",
       "    .dataframe tbody tr th {\n",
       "        vertical-align: top;\n",
       "    }\n",
       "\n",
       "    .dataframe thead th {\n",
       "        text-align: right;\n",
       "    }\n",
       "</style>\n",
       "<table border=\"1\" class=\"dataframe\">\n",
       "  <thead>\n",
       "    <tr style=\"text-align: right;\">\n",
       "      <th></th>\n",
       "      <th>Close</th>\n",
       "      <th>Verificando</th>\n",
       "      <th>Signals</th>\n",
       "      <th>Trades</th>\n",
       "    </tr>\n",
       "    <tr>\n",
       "      <th>Data</th>\n",
       "      <th></th>\n",
       "      <th></th>\n",
       "      <th></th>\n",
       "      <th></th>\n",
       "    </tr>\n",
       "  </thead>\n",
       "  <tbody>\n",
       "    <tr>\n",
       "      <th>2023-01-02 00:00:00+00:00</th>\n",
       "      <td>0.003806</td>\n",
       "      <td>0.0</td>\n",
       "      <td>False</td>\n",
       "      <td>NaN</td>\n",
       "    </tr>\n",
       "    <tr>\n",
       "      <th>2023-01-03 00:00:00+00:00</th>\n",
       "      <td>-0.000516</td>\n",
       "      <td>1.0</td>\n",
       "      <td>False</td>\n",
       "      <td>NaN</td>\n",
       "    </tr>\n",
       "    <tr>\n",
       "      <th>2023-01-04 00:00:00+00:00</th>\n",
       "      <td>0.010934</td>\n",
       "      <td>0.0</td>\n",
       "      <td>False</td>\n",
       "      <td>NaN</td>\n",
       "    </tr>\n",
       "    <tr>\n",
       "      <th>2023-01-05 00:00:00+00:00</th>\n",
       "      <td>-0.001573</td>\n",
       "      <td>1.0</td>\n",
       "      <td>False</td>\n",
       "      <td>NaN</td>\n",
       "    </tr>\n",
       "    <tr>\n",
       "      <th>2023-01-06 00:00:00+00:00</th>\n",
       "      <td>0.006821</td>\n",
       "      <td>0.0</td>\n",
       "      <td>False</td>\n",
       "      <td>NaN</td>\n",
       "    </tr>\n",
       "    <tr>\n",
       "      <th>...</th>\n",
       "      <td>...</td>\n",
       "      <td>...</td>\n",
       "      <td>...</td>\n",
       "      <td>...</td>\n",
       "    </tr>\n",
       "    <tr>\n",
       "      <th>2023-08-19 00:00:00+00:00</th>\n",
       "      <td>0.001789</td>\n",
       "      <td>0.0</td>\n",
       "      <td>False</td>\n",
       "      <td>NaN</td>\n",
       "    </tr>\n",
       "    <tr>\n",
       "      <th>2023-08-20 00:00:00+00:00</th>\n",
       "      <td>0.003572</td>\n",
       "      <td>0.0</td>\n",
       "      <td>False</td>\n",
       "      <td>NaN</td>\n",
       "    </tr>\n",
       "    <tr>\n",
       "      <th>2023-08-21 00:00:00+00:00</th>\n",
       "      <td>-0.002502</td>\n",
       "      <td>1.0</td>\n",
       "      <td>False</td>\n",
       "      <td>NaN</td>\n",
       "    </tr>\n",
       "    <tr>\n",
       "      <th>2023-08-22 00:00:00+00:00</th>\n",
       "      <td>-0.003546</td>\n",
       "      <td>2.0</td>\n",
       "      <td>False</td>\n",
       "      <td>NaN</td>\n",
       "    </tr>\n",
       "    <tr>\n",
       "      <th>2023-08-23 00:00:00+00:00</th>\n",
       "      <td>-0.003580</td>\n",
       "      <td>3.0</td>\n",
       "      <td>True</td>\n",
       "      <td>NaN</td>\n",
       "    </tr>\n",
       "  </tbody>\n",
       "</table>\n",
       "<p>234 rows × 4 columns</p>\n",
       "</div>"
      ],
      "text/plain": [
       "                              Close  Verificando Signals  Trades\n",
       "Data                                                            \n",
       "2023-01-02 00:00:00+00:00  0.003806          0.0   False     NaN\n",
       "2023-01-03 00:00:00+00:00 -0.000516          1.0   False     NaN\n",
       "2023-01-04 00:00:00+00:00  0.010934          0.0   False     NaN\n",
       "2023-01-05 00:00:00+00:00 -0.001573          1.0   False     NaN\n",
       "2023-01-06 00:00:00+00:00  0.006821          0.0   False     NaN\n",
       "...                             ...          ...     ...     ...\n",
       "2023-08-19 00:00:00+00:00  0.001789          0.0   False     NaN\n",
       "2023-08-20 00:00:00+00:00  0.003572          0.0   False     NaN\n",
       "2023-08-21 00:00:00+00:00 -0.002502          1.0   False     NaN\n",
       "2023-08-22 00:00:00+00:00 -0.003546          2.0   False     NaN\n",
       "2023-08-23 00:00:00+00:00 -0.003580          3.0    True     NaN\n",
       "\n",
       "[234 rows x 4 columns]"
      ]
     },
     "execution_count": 27,
     "metadata": {},
     "output_type": "execute_result"
    }
   ],
   "source": [
    "retornos"
   ]
  },
  {
   "cell_type": "code",
   "execution_count": 26,
   "metadata": {},
   "outputs": [
    {
     "ename": "KeyError",
     "evalue": "0",
     "output_type": "error",
     "traceback": [
      "\u001b[0;31m---------------------------------------------------------------------------\u001b[0m",
      "\u001b[0;31mKeyError\u001b[0m                                  Traceback (most recent call last)",
      "\u001b[0;32m/tmp/ipykernel_55362/2846067387.py\u001b[0m in \u001b[0;36m<module>\u001b[0;34m\u001b[0m\n\u001b[1;32m      1\u001b[0m \u001b[0mretornos\u001b[0m\u001b[0;34m[\u001b[0m\u001b[0;34m\"Trades\"\u001b[0m\u001b[0;34m]\u001b[0m \u001b[0;34m=\u001b[0m \u001b[0mnp\u001b[0m\u001b[0;34m.\u001b[0m\u001b[0mnan\u001b[0m\u001b[0;34m\u001b[0m\u001b[0;34m\u001b[0m\u001b[0m\n\u001b[1;32m      2\u001b[0m \u001b[0;32mfor\u001b[0m \u001b[0mi\u001b[0m \u001b[0;32min\u001b[0m \u001b[0mrange\u001b[0m\u001b[0;34m(\u001b[0m\u001b[0mlen\u001b[0m\u001b[0;34m(\u001b[0m\u001b[0mretornos\u001b[0m\u001b[0;34m)\u001b[0m\u001b[0;34m)\u001b[0m\u001b[0;34m:\u001b[0m\u001b[0;34m\u001b[0m\u001b[0;34m\u001b[0m\u001b[0m\n\u001b[0;32m----> 3\u001b[0;31m     \u001b[0;32mif\u001b[0m \u001b[0mretornos\u001b[0m\u001b[0;34m.\u001b[0m\u001b[0mloc\u001b[0m\u001b[0;34m[\u001b[0m\u001b[0mi\u001b[0m\u001b[0;34m,\u001b[0m \u001b[0;34m\"Signals\"\u001b[0m\u001b[0;34m]\u001b[0m \u001b[0;34m==\u001b[0m \u001b[0;32mTrue\u001b[0m\u001b[0;34m:\u001b[0m\u001b[0;34m\u001b[0m\u001b[0;34m\u001b[0m\u001b[0m\n\u001b[0m\u001b[1;32m      4\u001b[0m         \u001b[0mretornos\u001b[0m\u001b[0;34m.\u001b[0m\u001b[0mloc\u001b[0m\u001b[0;34m[\u001b[0m\u001b[0mi\u001b[0m\u001b[0;34m,\u001b[0m \u001b[0;34m\"Trades\"\u001b[0m\u001b[0;34m]\u001b[0m \u001b[0;34m=\u001b[0m \u001b[0mticker_data\u001b[0m\u001b[0;34m.\u001b[0m\u001b[0mloc\u001b[0m\u001b[0;34m[\u001b[0m\u001b[0mi\u001b[0m\u001b[0;34m,\u001b[0m \u001b[0;34m\"Close\"\u001b[0m\u001b[0;34m]\u001b[0m\u001b[0;34m\u001b[0m\u001b[0;34m\u001b[0m\u001b[0m\n\u001b[1;32m      5\u001b[0m     \u001b[0;32melse\u001b[0m\u001b[0;34m:\u001b[0m\u001b[0;34m\u001b[0m\u001b[0;34m\u001b[0m\u001b[0m\n",
      "\u001b[0;32m~/.local/lib/python3.10/site-packages/pandas/core/indexing.py\u001b[0m in \u001b[0;36m__getitem__\u001b[0;34m(self, key)\u001b[0m\n\u001b[1;32m   1094\u001b[0m             \u001b[0mkey\u001b[0m \u001b[0;34m=\u001b[0m \u001b[0mtuple\u001b[0m\u001b[0;34m(\u001b[0m\u001b[0mcom\u001b[0m\u001b[0;34m.\u001b[0m\u001b[0mapply_if_callable\u001b[0m\u001b[0;34m(\u001b[0m\u001b[0mx\u001b[0m\u001b[0;34m,\u001b[0m \u001b[0mself\u001b[0m\u001b[0;34m.\u001b[0m\u001b[0mobj\u001b[0m\u001b[0;34m)\u001b[0m \u001b[0;32mfor\u001b[0m \u001b[0mx\u001b[0m \u001b[0;32min\u001b[0m \u001b[0mkey\u001b[0m\u001b[0;34m)\u001b[0m\u001b[0;34m\u001b[0m\u001b[0;34m\u001b[0m\u001b[0m\n\u001b[1;32m   1095\u001b[0m             \u001b[0;32mif\u001b[0m \u001b[0mself\u001b[0m\u001b[0;34m.\u001b[0m\u001b[0m_is_scalar_access\u001b[0m\u001b[0;34m(\u001b[0m\u001b[0mkey\u001b[0m\u001b[0;34m)\u001b[0m\u001b[0;34m:\u001b[0m\u001b[0;34m\u001b[0m\u001b[0;34m\u001b[0m\u001b[0m\n\u001b[0;32m-> 1096\u001b[0;31m                 \u001b[0;32mreturn\u001b[0m \u001b[0mself\u001b[0m\u001b[0;34m.\u001b[0m\u001b[0mobj\u001b[0m\u001b[0;34m.\u001b[0m\u001b[0m_get_value\u001b[0m\u001b[0;34m(\u001b[0m\u001b[0;34m*\u001b[0m\u001b[0mkey\u001b[0m\u001b[0;34m,\u001b[0m \u001b[0mtakeable\u001b[0m\u001b[0;34m=\u001b[0m\u001b[0mself\u001b[0m\u001b[0;34m.\u001b[0m\u001b[0m_takeable\u001b[0m\u001b[0;34m)\u001b[0m\u001b[0;34m\u001b[0m\u001b[0;34m\u001b[0m\u001b[0m\n\u001b[0m\u001b[1;32m   1097\u001b[0m             \u001b[0;32mreturn\u001b[0m \u001b[0mself\u001b[0m\u001b[0;34m.\u001b[0m\u001b[0m_getitem_tuple\u001b[0m\u001b[0;34m(\u001b[0m\u001b[0mkey\u001b[0m\u001b[0;34m)\u001b[0m\u001b[0;34m\u001b[0m\u001b[0;34m\u001b[0m\u001b[0m\n\u001b[1;32m   1098\u001b[0m         \u001b[0;32melse\u001b[0m\u001b[0;34m:\u001b[0m\u001b[0;34m\u001b[0m\u001b[0;34m\u001b[0m\u001b[0m\n",
      "\u001b[0;32m~/.local/lib/python3.10/site-packages/pandas/core/frame.py\u001b[0m in \u001b[0;36m_get_value\u001b[0;34m(self, index, col, takeable)\u001b[0m\n\u001b[1;32m   3875\u001b[0m             \u001b[0;31m#  results if our categories are integers that dont match our codes\u001b[0m\u001b[0;34m\u001b[0m\u001b[0;34m\u001b[0m\u001b[0m\n\u001b[1;32m   3876\u001b[0m             \u001b[0;31m# IntervalIndex: IntervalTree has no get_loc\u001b[0m\u001b[0;34m\u001b[0m\u001b[0;34m\u001b[0m\u001b[0m\n\u001b[0;32m-> 3877\u001b[0;31m             \u001b[0mrow\u001b[0m \u001b[0;34m=\u001b[0m \u001b[0mself\u001b[0m\u001b[0;34m.\u001b[0m\u001b[0mindex\u001b[0m\u001b[0;34m.\u001b[0m\u001b[0mget_loc\u001b[0m\u001b[0;34m(\u001b[0m\u001b[0mindex\u001b[0m\u001b[0;34m)\u001b[0m\u001b[0;34m\u001b[0m\u001b[0;34m\u001b[0m\u001b[0m\n\u001b[0m\u001b[1;32m   3878\u001b[0m             \u001b[0;32mreturn\u001b[0m \u001b[0mseries\u001b[0m\u001b[0;34m.\u001b[0m\u001b[0m_values\u001b[0m\u001b[0;34m[\u001b[0m\u001b[0mrow\u001b[0m\u001b[0;34m]\u001b[0m\u001b[0;34m\u001b[0m\u001b[0;34m\u001b[0m\u001b[0m\n\u001b[1;32m   3879\u001b[0m \u001b[0;34m\u001b[0m\u001b[0m\n",
      "\u001b[0;32m~/.local/lib/python3.10/site-packages/pandas/core/indexes/datetimes.py\u001b[0m in \u001b[0;36mget_loc\u001b[0;34m(self, key)\u001b[0m\n\u001b[1;32m    579\u001b[0m         \u001b[0;32melse\u001b[0m\u001b[0;34m:\u001b[0m\u001b[0;34m\u001b[0m\u001b[0;34m\u001b[0m\u001b[0m\n\u001b[1;32m    580\u001b[0m             \u001b[0;31m# unrecognized type\u001b[0m\u001b[0;34m\u001b[0m\u001b[0;34m\u001b[0m\u001b[0m\n\u001b[0;32m--> 581\u001b[0;31m             \u001b[0;32mraise\u001b[0m \u001b[0mKeyError\u001b[0m\u001b[0;34m(\u001b[0m\u001b[0mkey\u001b[0m\u001b[0;34m)\u001b[0m\u001b[0;34m\u001b[0m\u001b[0;34m\u001b[0m\u001b[0m\n\u001b[0m\u001b[1;32m    582\u001b[0m \u001b[0;34m\u001b[0m\u001b[0m\n\u001b[1;32m    583\u001b[0m         \u001b[0;32mtry\u001b[0m\u001b[0;34m:\u001b[0m\u001b[0;34m\u001b[0m\u001b[0;34m\u001b[0m\u001b[0m\n",
      "\u001b[0;31mKeyError\u001b[0m: 0"
     ]
    }
   ],
   "source": [
    "retornos[\"Trades\"] = np.nan\n",
    "for i in range(len(retornos)):\n",
    "    if retornos.loc[i, \"Signals\"] == True:\n",
    "        retornos.loc[i, \"Trades\"] = ticker_data.loc[i, \"Close\"]\n",
    "    else:\n",
    "        retornos.loc[i, \"Trades\"] = 15000"
   ]
  },
  {
   "cell_type": "code",
   "execution_count": null,
   "metadata": {},
   "outputs": [],
   "source": [
    "retornos[\"Trades\"].unique()"
   ]
  },
  {
   "cell_type": "code",
   "execution_count": null,
   "metadata": {},
   "outputs": [],
   "source": [
    "plt.figure(figsize=(16,6))\n",
    "\n",
    "plt.plot(ticker_data[\"Close\"])\n",
    "\n",
    "plt.plot(retornos[\"Trades\"], color=\"black\")\n",
    "\n",
    "plt.show()"
   ]
  }
 ],
 "metadata": {
  "accelerator": "GPU",
  "colab": {
   "collapsed_sections": [],
   "name": "MomentumStrategy_Complete.ipynb",
   "provenance": []
  },
  "kernelspec": {
   "display_name": "Python 3 (ipykernel)",
   "language": "python",
   "name": "python3"
  },
  "language_info": {
   "codemirror_mode": {
    "name": "ipython",
    "version": 3
   },
   "file_extension": ".py",
   "mimetype": "text/x-python",
   "name": "python",
   "nbconvert_exporter": "python",
   "pygments_lexer": "ipython3",
   "version": "3.10.12"
  }
 },
 "nbformat": 4,
 "nbformat_minor": 1
}
